{
  "nbformat": 4,
  "nbformat_minor": 0,
  "metadata": {
    "colab": {
      "provenance": []
    },
    "kernelspec": {
      "name": "python3",
      "display_name": "Python 3"
    },
    "language_info": {
      "name": "python"
    }
  },
  "cells": [
    {
      "cell_type": "markdown",
      "source": [
        "## EXERCISE"
      ],
      "metadata": {
        "id": "ahgwdpqNayAh"
      }
    },
    {
      "cell_type": "markdown",
      "source": [],
      "metadata": {
        "id": "NL6-MvdSaxli"
      }
    },
    {
      "cell_type": "markdown",
      "source": [
        "Each line of code below contains an error. Fix the error and explain in a comment the reason for the error.\n"
      ],
      "metadata": {
        "id": "NDa4Z0SHaQ7o"
      }
    },
    {
      "cell_type": "markdown",
      "source": [
        "## Exercise 1"
      ],
      "metadata": {
        "id": "MzRjMy0-a0pR"
      }
    },
    {
      "cell_type": "code",
      "source": [
        "print('Hello world!')\n",
        "#it had a capital letter P, its supposed to be small letter \"print\""
      ],
      "metadata": {
        "colab": {
          "base_uri": "https://localhost:8080/"
        },
        "id": "X6Ozs54WaSXJ",
        "outputId": "b6ce8c74-5238-465e-c1fd-df54e8b41b55"
      },
      "execution_count": 1,
      "outputs": [
        {
          "output_type": "stream",
          "name": "stdout",
          "text": [
            "Hello world!\n"
          ]
        }
      ]
    },
    {
      "cell_type": "code",
      "source": [
        "print('Hello world!')\n",
        "#it lacks an open parenthesis"
      ],
      "metadata": {
        "colab": {
          "base_uri": "https://localhost:8080/"
        },
        "id": "xE29Z8KxaVCp",
        "outputId": "9a02c882-ff58-45ae-f860-88d3b16cabc6"
      },
      "execution_count": 2,
      "outputs": [
        {
          "output_type": "stream",
          "name": "stdout",
          "text": [
            "Hello world!\n"
          ]
        }
      ]
    },
    {
      "cell_type": "code",
      "source": [
        "print('Hello world!')\n",
        "#it was lacking a closing quotes ('), and string needs to have (\"\") or ('')"
      ],
      "metadata": {
        "colab": {
          "base_uri": "https://localhost:8080/"
        },
        "id": "3JFqN-S5ai6f",
        "outputId": "6675b8b0-4231-42b1-d78b-474bc5ccc600"
      },
      "execution_count": 3,
      "outputs": [
        {
          "output_type": "stream",
          "name": "stdout",
          "text": [
            "Hello world!\n"
          ]
        }
      ]
    },
    {
      "cell_type": "code",
      "source": [
        "print('Hello world!')\n",
        "#and this one had two closing quotes ('), since the first one was a one opening close, the presence of another quotes on closing made it error"
      ],
      "metadata": {
        "colab": {
          "base_uri": "https://localhost:8080/"
        },
        "id": "mApaYypgamBe",
        "outputId": "f88499b6-7113-4756-f2ae-d328441c35ed"
      },
      "execution_count": 4,
      "outputs": [
        {
          "output_type": "stream",
          "name": "stdout",
          "text": [
            "Hello world!\n"
          ]
        }
      ]
    },
    {
      "cell_type": "markdown",
      "source": [
        "## Exercise 2"
      ],
      "metadata": {
        "id": "aEAtiFLKa6Lo"
      }
    },
    {
      "cell_type": "code",
      "source": [
        "x = 43\n",
        "x = x + 1\n",
        "print(x)\n",
        "\n",
        "#44"
      ],
      "metadata": {
        "id": "zzQuFkG_a9e6"
      },
      "execution_count": null,
      "outputs": []
    },
    {
      "cell_type": "markdown",
      "source": [
        "#Exercise 3"
      ],
      "metadata": {
        "id": "wUXzAh9ObFsI"
      }
    },
    {
      "cell_type": "code",
      "source": [
        "x = 43\n",
        "x = x + 1\n",
        "print(x)\n",
        "\n",
        "#it has a inconsistent variable name, the first variable was a small x and the 2nd was capital, so the system wont recognize the value of Capital X since it has no value"
      ],
      "metadata": {
        "id": "UBFell0obART"
      },
      "execution_count": null,
      "outputs": []
    },
    {
      "cell_type": "code",
      "source": [
        "from google.colab import drive\n",
        "drive.mount('/content/drive')"
      ],
      "metadata": {
        "colab": {
          "base_uri": "https://localhost:8080/"
        },
        "id": "eiiqkptKczTL",
        "outputId": "003fb942-2f48-4235-e280-2bb3b6eec534"
      },
      "execution_count": 11,
      "outputs": [
        {
          "output_type": "stream",
          "name": "stdout",
          "text": [
            "Mounted at /content/drive\n"
          ]
        }
      ]
    }
  ]
}