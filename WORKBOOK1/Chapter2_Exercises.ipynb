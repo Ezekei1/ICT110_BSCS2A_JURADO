{
  "nbformat": 4,
  "nbformat_minor": 0,
  "metadata": {
    "colab": {
      "provenance": []
    },
    "kernelspec": {
      "name": "python3",
      "display_name": "Python 3"
    },
    "language_info": {
      "name": "python"
    }
  },
  "cells": [
    {
      "cell_type": "markdown",
      "source": [
        "## Exercise 1"
      ],
      "metadata": {
        "id": "E5-0vPMojwgZ"
      }
    },
    {
      "cell_type": "markdown",
      "source": [
        "Write a program that uses input to prompt a user for their name and then welcomes them.\n",
        "```\n",
        "Enter your name: Chuck\n",
        "Hello Chuck\n",
        "```\n",
        "\n",
        "[PEW] E2.2\n"
      ],
      "metadata": {
        "id": "d24M85qqj699"
      }
    },
    {
      "cell_type": "code",
      "source": [
        "name = input('Please Enter Your Name: ')\n",
        "print('welcome',name)"
      ],
      "metadata": {
        "colab": {
          "base_uri": "https://localhost:8080/"
        },
        "id": "9_j69a_Bj_eK",
        "outputId": "51792546-766f-4474-8974-684239b58108"
      },
      "execution_count": 1,
      "outputs": [
        {
          "output_type": "stream",
          "name": "stdout",
          "text": [
            "Please Enter Your Name: Chad\n",
            "welcome Chad\n"
          ]
        }
      ]
    },
    {
      "cell_type": "markdown",
      "source": [
        "#### Exercise 2"
      ],
      "metadata": {
        "id": "kgdQ7Ps4kzt4"
      }
    },
    {
      "cell_type": "markdown",
      "source": [
        "Write a program to prompt the user for hours and rate per hour to compute gross pay.\n",
        "```\n",
        "Enter Hours: 35\n",
        "Enter Rate: 2.75\n",
        "Pay: 96.25\n",
        "```\n",
        "\n",
        "[PEW] E2.3"
      ],
      "metadata": {
        "id": "HbmwrRQFk412"
      }
    },
    {
      "cell_type": "code",
      "source": [
        "hour = input('Enter Hours: ')\n",
        "hours=int(hour)\n",
        "rate = 2.75\n",
        "GrossPay = hours*rate\n",
        "print('Pay: ',GrossPay)"
      ],
      "metadata": {
        "colab": {
          "base_uri": "https://localhost:8080/"
        },
        "id": "3Zxlak1Lk6_w",
        "outputId": "9263afd2-2690-4c95-d38d-80c04bb3e2d1"
      },
      "execution_count": 3,
      "outputs": [
        {
          "output_type": "stream",
          "name": "stdout",
          "text": [
            "Enter Hours: 35\n",
            "Pay:  96.25\n"
          ]
        }
      ]
    },
    {
      "cell_type": "markdown",
      "source": [
        "#### Exercise 3"
      ],
      "metadata": {
        "id": "ib-pPpldlMMY"
      }
    },
    {
      "cell_type": "markdown",
      "source": [
        "Assume that we execute the following assignment statements:\n",
        "```python\n",
        "width = 17\n",
        "height = 12.0\n",
        "```\n",
        "For each of the following expressions, write the value of the expression and the type (of the value of the expression).\n",
        "```python\n",
        "width//2\n",
        "width/2.0\n",
        "height/3\n",
        "1 + 2 * 5\n",
        "```\n",
        "\n",
        "[PEW] E2.4"
      ],
      "metadata": {
        "id": "tG7NUiA-lS6f"
      }
    },
    {
      "cell_type": "code",
      "source": [
        "width = 17\n",
        "height = 12.0\n",
        "\n",
        "width//2\n",
        "width/2.0\n",
        "height/3\n",
        "1 + 2 * 5\n",
        "\n",
        "print(\"Width\",type(width))\n",
        "print(\"height\",type(height))\n",
        "print(\"1 + 2 * 5\",type(1 + 2 * 5))"
      ],
      "metadata": {
        "colab": {
          "base_uri": "https://localhost:8080/"
        },
        "id": "1ZqJ5gISlRKI",
        "outputId": "096bb378-b3ce-4f49-f5c5-3d3a9c0ae75f"
      },
      "execution_count": 4,
      "outputs": [
        {
          "output_type": "stream",
          "name": "stdout",
          "text": [
            "Width <class 'int'>\n",
            "height <class 'float'>\n",
            "1 + 2 * 5 <class 'int'>\n"
          ]
        }
      ]
    },
    {
      "cell_type": "markdown",
      "source": [
        "#### Exercise 4\n",
        "\n",
        "Write a program that uses input to prompt a user for a number and then outputs the square of the number\n",
        "```\n",
        "Enter a number: 3\n",
        "The square of 3 is 9\n",
        "```"
      ],
      "metadata": {
        "id": "ZxuarTCalxS4"
      }
    },
    {
      "cell_type": "code",
      "source": [
        "number = input('Enter a number: ')\n",
        "num = int(number)\n",
        "square = num**2\n",
        "print(\"The square of\", num, \"is\", square)"
      ],
      "metadata": {
        "colab": {
          "base_uri": "https://localhost:8080/"
        },
        "id": "-pD3SPL7lyUw",
        "outputId": "c1f9c77d-4ac9-4b43-e38d-b910ccf87605"
      },
      "execution_count": 6,
      "outputs": [
        {
          "output_type": "stream",
          "name": "stdout",
          "text": [
            "Enter a number: 3\n",
            "The square of 3 is 9\n"
          ]
        }
      ]
    },
    {
      "cell_type": "markdown",
      "source": [
        "## CHALLENGE"
      ],
      "metadata": {
        "id": "X7e5crpUmEsg"
      }
    },
    {
      "cell_type": "markdown",
      "source": [
        "Write a program which prompts the user for a Celsius temperature, convert the temperature to Fahrenheit, and print out the converted temperature.\n",
        "\n",
        "[PEW] E2.5"
      ],
      "metadata": {
        "id": "nuZEWJsQmGuR"
      }
    },
    {
      "cell_type": "code",
      "source": [
        "ce = float(input(\"Please Enter Celsius: \"))\n",
        "fa = float(9/5 * ce) + 32\n",
        "\n",
        "print (\"fahrenheit\",fa)"
      ],
      "metadata": {
        "colab": {
          "base_uri": "https://localhost:8080/"
        },
        "id": "dJpNIqVwmIvx",
        "outputId": "ad847f65-3700-42b1-f736-5cfeaa5d6ee9"
      },
      "execution_count": 7,
      "outputs": [
        {
          "output_type": "stream",
          "name": "stdout",
          "text": [
            "Please Enter Celsius: 20\n",
            "fahrenheit 68.0\n"
          ]
        }
      ]
    }
  ]
}