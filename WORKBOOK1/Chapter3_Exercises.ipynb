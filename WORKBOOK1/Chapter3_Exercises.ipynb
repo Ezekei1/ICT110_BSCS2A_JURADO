{
  "nbformat": 4,
  "nbformat_minor": 0,
  "metadata": {
    "colab": {
      "provenance": []
    },
    "kernelspec": {
      "name": "python3",
      "display_name": "Python 3"
    },
    "language_info": {
      "name": "python"
    }
  },
  "cells": [
    {
      "cell_type": "code",
      "execution_count": null,
      "metadata": {
        "id": "fU4aJsOBGmrh"
      },
      "outputs": [],
      "source": []
    },
    {
      "cell_type": "markdown",
      "metadata": {
        "id": "kOrFW6bTe3rI"
      },
      "source": [
        "## EXERCISES"
      ]
    },
    {
      "cell_type": "markdown",
      "metadata": {
        "id": "bGjKPFnGe3rI"
      },
      "source": [
        "#### Exercise 1"
      ]
    },
    {
      "cell_type": "code",
      "source": [
        "x = 5\n",
        "if x > 50:\n",
        "    print('Above 50')\n",
        "elif x > 20:\n",
        "    print('Above 20')\n",
        "elif x > 10:\n",
        "    print('Above 10')\n",
        "elif x > 0:\n",
        "    print('Above 0')\n",
        "else:\n",
        "    print('Something else')"
      ],
      "metadata": {
        "id": "pDbHTZ1Qe3rI",
        "colab": {
          "base_uri": "https://localhost:8080/"
        },
        "outputId": "6c8e10fd-ecb7-4b78-e930-4dc676eb4511"
      },
      "execution_count": null,
      "outputs": [
        {
          "output_type": "stream",
          "name": "stdout",
          "text": [
            "Above 0\n"
          ]
        }
      ]
    },
    {
      "cell_type": "markdown",
      "metadata": {
        "id": "e2xkW1_Ze3rI"
      },
      "source": [
        "#### Exercise 2"
      ]
    },
    {
      "cell_type": "markdown",
      "metadata": {
        "id": "HLALLCqZe3rI"
      },
      "source": [
        "Write your salary computation to give an employee 1.5 times the hourly rate for hours worked above 40 hours. Example:\n",
        "\n",
        "    Enter Hours: 45\n",
        "    Enter Rate: 10\n",
        "    Pay: 475.0\n",
        "    \n",
        "[PEW] E3.2"
      ]
    },
    {
      "cell_type": "code",
      "source": [
        "hour = 45\n",
        "rate = 10\n",
        "pay = 475.0\n",
        "\n",
        "if hour <= 40:\n",
        "    salary = hour * rate\n",
        "    print(\"Pay: \", salary)\n",
        "else:\n",
        "    regular_pay = 40 * rate\n",
        "    overtime_hours = hours - 40\n",
        "    overtime_pay = overtime_hours * (rate * 1.5)\n",
        "    salary = regular_pay + overtime_pay\n",
        "    print(\"Pay: \", salary)\n"
      ],
      "metadata": {
        "id": "b2eiDgBnrfd9",
        "colab": {
          "base_uri": "https://localhost:8080/"
        },
        "outputId": "4b5aaff8-2103-44e5-e7ce-e1ee5cb01aa5"
      },
      "execution_count": null,
      "outputs": [
        {
          "output_type": "stream",
          "name": "stdout",
          "text": [
            "Pay:  475.0\n"
          ]
        }
      ]
    },
    {
      "cell_type": "markdown",
      "metadata": {
        "id": "SN_HES89e3rI"
      },
      "source": [
        "## CHALLENGE"
      ]
    },
    {
      "cell_type": "markdown",
      "metadata": {
        "id": "ECIVGzywe3rI"
      },
      "source": [
        "Write a program to prompt for a score between 0 and 100 and print a grade using the following table:\n",
        "\n",
        "    Score           Grade\n",
        "    [ 97, 100]      1.0\n",
        "    [ 93,  97)\t\t1.25\n",
        "    [ 89,  93)\t\t1.5\n",
        "    [ 85,  89)\t\t1.75\n",
        "    [ 81,  85)\t\t2.0\n",
        "    [ 77,  81)\t\t2.25\n",
        "    [ 74,  77)\t\t2.5\n",
        "    [ 0,   74)\t\t3.0\n",
        "\n",
        "Adapted from [PEW] E3.3\n",
        "<br>"
      ]
    },
    {
      "cell_type": "code",
      "source": [
        "grade = int(input('Please Enter the grade: '))\n",
        "\n",
        "if grade < 74:\n",
        "    print(\"Grade = 3.0\")\n",
        "elif grade >= 74 and grade < 77:\n",
        "    print(\"Grade = 2.5\")\n",
        "elif grade >= 77 and grade < 81:\n",
        "    print(\"Grade = 2.25\")\n",
        "elif grade >= 81 and grade < 85:\n",
        "    print(\"Grade = 2.0\")\n",
        "elif grade >= 85 and grade < 89:\n",
        "    print(\"Grade = 1.75\")\n",
        "elif grade >= 89 and grade < 92:\n",
        "    print(\"Grade = 1.5\")\n",
        "elif grade >= 93 and grade < 97:\n",
        "    print(\"Grade = 1.25\")\n",
        "elif grade >= 97 and grade < 100:\n",
        "    print(\"Grade = 1.0\")\n",
        "\n",
        "print(\"Grade:\", grade)\n",
        "\n",
        "\n",
        "\n"
      ],
      "metadata": {
        "id": "rmWx4VLOsFlq",
        "colab": {
          "base_uri": "https://localhost:8080/"
        },
        "outputId": "efb02bce-6d3e-40f5-89c4-b5597de5df3e"
      },
      "execution_count": null,
      "outputs": [
        {
          "output_type": "stream",
          "name": "stdout",
          "text": [
            "Please Enter the grade: 95\n",
            "Grade = 1.25\n",
            "Grade: 95\n"
          ]
        }
      ]
    }
  ]
}