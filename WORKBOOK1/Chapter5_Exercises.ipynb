{
  "nbformat": 4,
  "nbformat_minor": 0,
  "metadata": {
    "colab": {
      "provenance": []
    },
    "kernelspec": {
      "name": "python3",
      "display_name": "Python 3"
    },
    "language_info": {
      "name": "python"
    }
  },
  "cells": [
    {
      "cell_type": "markdown",
      "metadata": {
        "id": "lMymMvrve3rQ"
      },
      "source": [
        "## EXERCISES"
      ]
    },
    {
      "cell_type": "markdown",
      "metadata": {
        "id": "WrWqQhdue3rQ"
      },
      "source": [
        "#### Exercise 1"
      ]
    },
    {
      "cell_type": "markdown",
      "metadata": {
        "id": "JkkxmMpoe3rQ"
      },
      "source": [
        "Investigate on the difference between `is` and `==` given the following variables.\n",
        "```python\n",
        "a = 2\n",
        "b = 2.0\n",
        "c = a\n",
        "```"
      ]
    },
    {
      "cell_type": "code",
      "source": [
        "a = 2\n",
        "b = 2.0\n",
        "c = a\n",
        "\n",
        "print(a is c)\n",
        "print(a is b)\n",
        "print(b is c)\n",
        "print(a == b)\n",
        "print(a == c)\n",
        "print(b == c)\n",
        "\n",
        "##(is) is used to check if the variables are the same object\n",
        "##(==) is used to check if the variables have the same value"
      ],
      "metadata": {
        "colab": {
          "base_uri": "https://localhost:8080/"
        },
        "id": "nGKWjhu6lrB_",
        "outputId": "19b78bf1-7cdb-473c-859d-b487424236e1"
      },
      "execution_count": null,
      "outputs": [
        {
          "output_type": "stream",
          "name": "stdout",
          "text": [
            "True\n",
            "False\n",
            "False\n",
            "True\n",
            "True\n",
            "True\n"
          ]
        }
      ]
    },
    {
      "cell_type": "markdown",
      "metadata": {
        "id": "HnR5qgaHe3rQ"
      },
      "source": [
        "## CHALLENGES"
      ]
    },
    {
      "cell_type": "markdown",
      "metadata": {
        "id": "Ae2HErw9e3rQ"
      },
      "source": [
        "#### Challenge 1"
      ]
    },
    {
      "cell_type": "markdown",
      "metadata": {
        "id": "0pmOvKife3rQ"
      },
      "source": [
        "Write a program which repeatedly reads numbers until the user enters \"done\". Once \"done\" is entered, print out the total, count, and average of the numbers. If the user enters anything other than a number, detect their mistake using try and except and print an error message and skip to the next number.\n",
        "\n",
        "    Enter a number: 4\n",
        "    Enter a number: 5\n",
        "    Enter a number: bad data\n",
        "    Invalid input\n",
        "    Enter a number: 7\n",
        "    Enter a number: done\n",
        "    16 3 5.333333333333333\n",
        "    \n",
        "[PEW] E5.1"
      ]
    },
    {
      "cell_type": "code",
      "source": [
        "total = 0\n",
        "count = 0\n",
        "print (\"Enter a number or 'done' to exit\")\n",
        "while True:\n",
        "    num_input = input(\"Enter a number: \")\n",
        "\n",
        "    if num_input == 'done':\n",
        "        break\n",
        "\n",
        "    if num_input.isdigit() or (num_input[0] == '-' and num_input[1:].isdigit()):\n",
        "        num = float(num_input)\n",
        "        total += num\n",
        "        count += 1\n",
        "    else:\n",
        "        print(\"Invalid input \")\n",
        "        continue\n",
        "\n",
        "if count > 0:\n",
        "    average = total / count\n",
        "\n",
        "    print(int(total), int (count), average)"
      ],
      "metadata": {
        "colab": {
          "base_uri": "https://localhost:8080/"
        },
        "id": "bkeGlshtqdm3",
        "outputId": "a19549f4-5e0d-4d17-fd24-d1c33dfe3eb9"
      },
      "execution_count": null,
      "outputs": [
        {
          "output_type": "stream",
          "name": "stdout",
          "text": [
            "Enter a number or 'done' to exit\n",
            "Enter a number: 5\n",
            "Enter a number: 4\n",
            "Enter a number: bad data\n",
            "Invalid input \n",
            "Enter a number: 7\n",
            "Enter a number: done\n",
            "16 3 5.333333333333333\n"
          ]
        }
      ]
    },
    {
      "cell_type": "markdown",
      "metadata": {
        "id": "ts7aZrXte3rQ"
      },
      "source": [
        "#### Challenge 2  "
      ]
    },
    {
      "cell_type": "markdown",
      "metadata": {
        "id": "GiUa3gnoe3rQ"
      },
      "source": [
        "Write another program that prompts for a list of numbers as above and at the end prints out both the maximum and minimum of the numbers instead of the average.\n",
        "\n",
        "[PEW] E5.2"
      ]
    },
    {
      "cell_type": "code",
      "source": [
        "numbers = []\n",
        "\n",
        "print(\"Enter a number or 'done' to exit\")\n",
        "while True:\n",
        "    num_input = input(\"Enter a number: \")\n",
        "\n",
        "    if num_input == 'done':\n",
        "        break\n",
        "\n",
        "    if num_input.isdigit() or (num_input[0] == '-' and num_input[1:].isdigit()):\n",
        "        num = float(num_input)\n",
        "        numbers.append(num)\n",
        "    else:\n",
        "        print(\"Invalid input \")\n",
        "        continue\n",
        "\n",
        "if numbers:\n",
        "    max_num = numbers[0]\n",
        "    min_num = numbers[0]\n",
        "\n",
        "    for num in numbers:\n",
        "        if num > max_num:\n",
        "            max_num = num\n",
        "        if num < min_num:\n",
        "            min_num = num\n",
        "\n",
        "    print(\"Maximum:\", int(max_num))\n",
        "    print(\"Minimum:\", int(min_num))"
      ],
      "metadata": {
        "colab": {
          "base_uri": "https://localhost:8080/"
        },
        "id": "Fnyz1tmGumwH",
        "outputId": "8baa74c4-ffee-49fa-c40a-315f66b5cbb4"
      },
      "execution_count": null,
      "outputs": [
        {
          "output_type": "stream",
          "name": "stdout",
          "text": [
            "Enter a number or 'done' to exit\n",
            "Enter a number: 5\n",
            "Enter a number: 4\n",
            "Enter a number: bad data\n",
            "Invalid input \n",
            "Enter a number: 7\n",
            "Enter a number: done\n",
            "Maximum: 7\n",
            "Minimum: 4\n"
          ]
        }
      ]
    }
  ]
}