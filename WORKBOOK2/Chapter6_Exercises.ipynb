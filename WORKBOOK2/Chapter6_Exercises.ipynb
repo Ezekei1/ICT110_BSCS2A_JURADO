{
  "nbformat": 4,
  "nbformat_minor": 0,
  "metadata": {
    "colab": {
      "provenance": []
    },
    "kernelspec": {
      "name": "python3",
      "display_name": "Python 3"
    },
    "language_info": {
      "name": "python"
    }
  },
  "cells": [
    {
      "cell_type": "code",
      "execution_count": null,
      "metadata": {
        "id": "IYcnPOq69MfY"
      },
      "outputs": [],
      "source": []
    },
    {
      "cell_type": "markdown",
      "metadata": {
        "id": "3LiuUb4s0PC-"
      },
      "source": [
        "## EXERCISES"
      ]
    },
    {
      "cell_type": "markdown",
      "metadata": {
        "id": "YE0CzKis0PC-"
      },
      "source": [
        "#### Exercise 1"
      ]
    },
    {
      "cell_type": "markdown",
      "metadata": {
        "id": "G-bGXeBv0PC-"
      },
      "source": [
        "Given the code below    \n",
        "\n",
        "    text = 'Business Analytics'\n",
        "\n",
        "What will the following expressions produce?\n",
        "    \n",
        "    text[4]\n",
        "    text[2:4]\n",
        "    text[:4]\n",
        "    text[4:]\n",
        "    text[-2]\n",
        "    text[-4:-2]\n",
        "    text[-2:]\n",
        "    text[:-2]\n",
        "    "
      ]
    },
    {
      "cell_type": "code",
      "source": [
        "text = 'Business Analytics'\n",
        "\n",
        "print(text[4])\n",
        "print(text[2:4])\n",
        "print(text[:4])\n",
        "print(text[4:])\n",
        "print(text[-2])\n",
        "print(text[-4:-2])\n",
        "print(text[-2:])\n",
        "print(text[:-2])\n"
      ],
      "metadata": {
        "colab": {
          "base_uri": "https://localhost:8080/"
        },
        "id": "eoUiIEzQ2Hyy",
        "outputId": "d0865b85-a259-4153-fbb7-ea746ff3b681"
      },
      "execution_count": null,
      "outputs": [
        {
          "output_type": "stream",
          "name": "stdout",
          "text": [
            "n\n",
            "si\n",
            "Busi\n",
            "ness Analytics\n",
            "c\n",
            "ti\n",
            "cs\n",
            "Business Analyti\n"
          ]
        }
      ]
    },
    {
      "cell_type": "markdown",
      "metadata": {
        "id": "TnbBU1Ar0PDB"
      },
      "source": [
        "#### Exercise 2"
      ]
    },
    {
      "cell_type": "markdown",
      "metadata": {
        "id": "HaTpZ25d0PDB"
      },
      "source": [
        "Given the code below:\n",
        "    \n",
        "    phrase = 'One Ring to rule them all'\n",
        "\n",
        "What string slicing expression gives out the following words:\n",
        "\n",
        "    'One '\n",
        "    'Ring'\n",
        "    'all'\n",
        "    'them'\n",
        "    'One Ring to rule them all'\n",
        "    "
      ]
    },
    {
      "cell_type": "code",
      "source": [
        "phrase = 'One Ring to rule them all'\n",
        "print(phrase[0:4])\n",
        "print(phrase[4:8])\n",
        "print(phrase[-8:-4])\n",
        "print(phrase[:])"
      ],
      "metadata": {
        "colab": {
          "base_uri": "https://localhost:8080/"
        },
        "id": "rkFGrKwg2zSL",
        "outputId": "ce848a97-8c4b-4705-da95-9b9f2870da54"
      },
      "execution_count": null,
      "outputs": [
        {
          "output_type": "stream",
          "name": "stdout",
          "text": [
            "One \n",
            "Ring\n",
            "them\n",
            "One Ring to rule them all\n"
          ]
        }
      ]
    },
    {
      "cell_type": "markdown",
      "metadata": {
        "id": "cLNlsoSS0PDC"
      },
      "source": [
        "\n",
        "## CHALLENGE\n"
      ]
    },
    {
      "cell_type": "markdown",
      "metadata": {
        "id": "uyhqoBY30PDC"
      },
      "source": [
        "Write a program which repeatedly reads a **full name**, then does the following:\n",
        "- strips the name of any trailing spaces\n",
        "- capitalizes the first letter\n",
        "- puts the rest into smaller letters\n"
      ]
    },
    {
      "cell_type": "code",
      "source": [
        "print(\"Enter Full name and type 'done' to exit\")\n",
        "while True:\n",
        "    # Read full name from user\n",
        "    full_name = input(\"Enter Name: \")\n",
        "\n",
        "    # Check if user wants to quit\n",
        "    if full_name.lower() == 'done':\n",
        "        break\n",
        "\n",
        "    # Strip trailing spaces\n",
        "    formatted_name = full_name.strip()\n",
        "\n",
        "    # Capitalize first letter\n",
        "    formatted_name = formatted_name[0].upper() + formatted_name[1:].lower()\n",
        "\n",
        "    # Output the formatted name\n",
        "    print(\"           \", formatted_name)"
      ],
      "metadata": {
        "colab": {
          "base_uri": "https://localhost:8080/"
        },
        "id": "pqE9skvc4oql",
        "outputId": "8a1dfa77-cc85-4811-ff69-fbfe667563cd"
      },
      "execution_count": null,
      "outputs": [
        {
          "name": "stdout",
          "output_type": "stream",
          "text": [
            "Enter Full name and type 'done' to exit\n",
            "Enter Name: CHAD MICHAEL JURADO\n",
            "            Chad michael jurado\n",
            "Enter Name: DYNN ALEKSANDR BASCO\n",
            "            Dynn aleksandr basco\n",
            "Enter Name: done\n"
          ]
        }
      ]
    }
  ]
}