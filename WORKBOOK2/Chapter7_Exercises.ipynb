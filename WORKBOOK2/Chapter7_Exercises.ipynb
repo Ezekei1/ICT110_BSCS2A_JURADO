{
  "nbformat": 4,
  "nbformat_minor": 0,
  "metadata": {
    "colab": {
      "provenance": []
    },
    "kernelspec": {
      "name": "python3",
      "display_name": "Python 3"
    },
    "language_info": {
      "name": "python"
    }
  },
  "cells": [
    {
      "cell_type": "code",
      "execution_count": null,
      "metadata": {
        "id": "QbqZj6UPD8mH"
      },
      "outputs": [],
      "source": []
    },
    {
      "cell_type": "markdown",
      "metadata": {
        "id": "bubLf_-A0PDL"
      },
      "source": [
        "## EXERCISES"
      ]
    },
    {
      "cell_type": "markdown",
      "metadata": {
        "id": "0RpDuTIT0PDM"
      },
      "source": [
        "#### Exercise 1  "
      ]
    },
    {
      "cell_type": "code",
      "source": [
        "Write a program to read through a file and print the contents of the file (line by line) all in upper case.\n",
        "\n",
        "from [PEW] E8-1"
      ],
      "metadata": {
        "id": "Pk1Hyt3u0PDM"
      },
      "execution_count": null,
      "outputs": []
    },
    {
      "cell_type": "code",
      "source": [
        "f = open('/content/drive/My Drive/Python101/ex1.txt')\n",
        "for line in f:\n",
        "    print(line.upper())"
      ],
      "metadata": {
        "colab": {
          "base_uri": "https://localhost:8080/"
        },
        "id": "aPSIgO27_7kk",
        "outputId": "eb217a01-4cef-4cae-beff-7f6d6a8402e9"
      },
      "execution_count": null,
      "outputs": [
        {
          "output_type": "stream",
          "name": "stdout",
          "text": [
            "CHAD MICHAEL JURADO\n"
          ]
        }
      ]
    },
    {
      "cell_type": "markdown",
      "metadata": {
        "id": "NhFFOZ-00PDM"
      },
      "source": [
        "#### Exercise 2  "
      ]
    },
    {
      "cell_type": "code",
      "source": [
        "Write a program to read through a file and output the number of lines in a file.\n",
        "\n",
        "adapted from [PEW]"
      ],
      "metadata": {
        "id": "H8eZboAa0PDM"
      },
      "execution_count": null,
      "outputs": []
    },
    {
      "cell_type": "code",
      "source": [
        "f = open('/content/drive/My Drive/Python101/ex1.txt')\n",
        "text = f.read()\n",
        "print(len(text))"
      ],
      "metadata": {
        "colab": {
          "base_uri": "https://localhost:8080/"
        },
        "id": "jaxMTNb_AjRC",
        "outputId": "c202f9a4-7271-4321-8418-3190ae803bc4"
      },
      "execution_count": null,
      "outputs": [
        {
          "output_type": "stream",
          "name": "stdout",
          "text": [
            "19\n"
          ]
        }
      ]
    },
    {
      "cell_type": "markdown",
      "metadata": {
        "id": "yGvm7RoJ0PDM"
      },
      "source": [
        "## CHALLENGE\n",
        "\n",
        "from [PEW] E8-2"
      ]
    },
    {
      "cell_type": "code",
      "source": [
        "Write a program to prompt for a file name, and then read through the file and look for lines of the form:"
      ],
      "metadata": {
        "id": "MK1IellI0PDM"
      },
      "execution_count": null,
      "outputs": []
    },
    {
      "cell_type": "code",
      "source": [
        "X-DSPAM-Confidence: 0.8475"
      ],
      "metadata": {
        "id": "Tbpz86O_DgCT"
      },
      "execution_count": null,
      "outputs": []
    },
    {
      "cell_type": "markdown",
      "metadata": {
        "id": "_JMBIYW-0PDN"
      },
      "source": [
        "When you encounter a line that starts with \"X-DSPAM-Confidence:\" pull apart the line to extract the floating-point number on the line. Count these lines and then compute the total of the spam confidence values from these lines. When you reach the end of the file, print out the average spam confidence."
      ]
    },
    {
      "cell_type": "code",
      "source": [
        "Enter the file name: mbox.txt\n",
        "Average spam confidence: 0.894128046745\n",
        "\n",
        "Enter the file name: mbox-short.txt\n",
        "Average spam confidence: 0.750718518519"
      ],
      "metadata": {
        "id": "40pBHHr50PDN"
      },
      "execution_count": null,
      "outputs": []
    },
    {
      "cell_type": "code",
      "source": [
        "file_name = input(\"Enter the file name: \")\n",
        "\n",
        "try:\n",
        "    with open(file_name, 'r') as file:\n",
        "        spam_confidences = [float(line.split(': ')[1]) for line in file if line.startswith('X-DSPAM-Confidence:')]\n",
        "\n",
        "    if spam_confidences:\n",
        "        average_spam_confidence = sum(spam_confidences) / len(spam_confidences)\n",
        "        print(\"Average spam confidence:\", average_spam_confidence)\n",
        "    else:\n",
        "        print(\"No lines starting with 'X-DSPAM-Confidence:' were found in the file.\")\n",
        "\n",
        "except FileNotFoundError:\n",
        "    print(\"File not found. Please make sure the file exists and try again.\")"
      ],
      "metadata": {
        "colab": {
          "base_uri": "https://localhost:8080/"
        },
        "id": "M3ROlK-8B9w2",
        "outputId": "f7694fff-067d-4393-df5a-05d47322280a"
      },
      "execution_count": null,
      "outputs": [
        {
          "output_type": "stream",
          "name": "stdout",
          "text": [
            "Enter the file name: /content/drive/My Drive/Python101/chal.txt\n",
            "Average spam confidence: 0.8475\n"
          ]
        }
      ]
    }
  ]
}