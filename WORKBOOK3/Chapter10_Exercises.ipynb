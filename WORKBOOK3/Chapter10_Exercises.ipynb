{
  "nbformat": 4,
  "nbformat_minor": 0,
  "metadata": {
    "colab": {
      "provenance": []
    },
    "kernelspec": {
      "name": "python3",
      "display_name": "Python 3"
    },
    "language_info": {
      "name": "python"
    }
  },
  "cells": [
    {
      "cell_type": "markdown",
      "metadata": {
        "id": "gbiN60bQOAdY"
      },
      "source": [
        "## EXERCISES"
      ]
    },
    {
      "cell_type": "markdown",
      "metadata": {
        "id": "DzzdJyKkOAdZ"
      },
      "source": [
        "#### Exercise 1\n",
        "\n",
        "Create a tuple with the following items: `1, 1, 2, 3, 5`. Feed the tuple to the `sum()` built-in function and check the result.\n"
      ]
    },
    {
      "cell_type": "code",
      "source": [
        "number = (1, 1, 2, 3, 5)\n",
        "total_sum = sum(number)\n",
        "print(\"The total sum of the items are:\", total_sum)"
      ],
      "metadata": {
        "colab": {
          "base_uri": "https://localhost:8080/"
        },
        "id": "2sEYHTOvIcaP",
        "outputId": "d3f19d57-d12a-48aa-b955-8c76d0599bd5"
      },
      "execution_count": null,
      "outputs": [
        {
          "output_type": "stream",
          "name": "stdout",
          "text": [
            "The total sum of the items are: 12\n"
          ]
        }
      ]
    },
    {
      "cell_type": "markdown",
      "metadata": {
        "id": "l9Kbm4s4OAdZ"
      },
      "source": [
        "#### Exercise 2\n",
        "\n",
        "Unpack the following tuple into meaningful variables and display them\n",
        "\n",
        "```python\n",
        "ph_info = ('Philippines', 'Manila', 103.3) # The last number is the Population in Millions as of 2016\n",
        "```\n"
      ]
    },
    {
      "cell_type": "code",
      "source": [
        "ph_info =('Philippines', 'Manila', 103.3)\n",
        "country, capital, population = ph_info\n",
        "print(\"Country:\", country)\n",
        "print(\"Capital:\", capital)\n",
        "print(\"Population (in millions, as of 2016):\", population)"
      ],
      "metadata": {
        "colab": {
          "base_uri": "https://localhost:8080/"
        },
        "id": "HVurysyWJMg4",
        "outputId": "3af781a4-c303-40d7-c330-281fc865ec97"
      },
      "execution_count": null,
      "outputs": [
        {
          "output_type": "stream",
          "name": "stdout",
          "text": [
            "Country: Philippines\n",
            "Capital: Manila\n",
            "Population (in millions, as of 2016): 103.3\n"
          ]
        }
      ]
    }
  ]
}