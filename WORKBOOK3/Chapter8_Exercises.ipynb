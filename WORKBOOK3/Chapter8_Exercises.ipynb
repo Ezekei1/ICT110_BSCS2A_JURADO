{
  "nbformat": 4,
  "nbformat_minor": 0,
  "metadata": {
    "colab": {
      "provenance": []
    },
    "kernelspec": {
      "name": "python3",
      "display_name": "Python 3"
    },
    "language_info": {
      "name": "python"
    }
  },
  "cells": [
    {
      "cell_type": "code",
      "execution_count": null,
      "metadata": {
        "id": "r_zfidwbqWGW"
      },
      "outputs": [],
      "source": []
    },
    {
      "cell_type": "markdown",
      "metadata": {
        "id": "y5KIVc4OOAcj"
      },
      "source": [
        "## EXERCISES"
      ]
    },
    {
      "cell_type": "markdown",
      "metadata": {
        "id": "UuO4kSguOAcj"
      },
      "source": [
        "#### Exercise 1\n",
        "\n",
        "Create an empty list then add the following numbers using `append`: 4, 6 9."
      ]
    },
    {
      "cell_type": "code",
      "source": [
        "emptylist = []\n",
        "emptylist.append(4)\n",
        "emptylist.append(6)\n",
        "emptylist.append(9)\n",
        "print('Emptylist =', emptylist)"
      ],
      "metadata": {
        "colab": {
          "base_uri": "https://localhost:8080/"
        },
        "id": "Ffrn5PiaaOTE",
        "outputId": "f0ccaf3c-8087-41ce-94ca-8b355c17ecc6"
      },
      "execution_count": null,
      "outputs": [
        {
          "output_type": "stream",
          "name": "stdout",
          "text": [
            "Emptylist = [4, 6, 9]\n"
          ]
        }
      ]
    },
    {
      "cell_type": "markdown",
      "metadata": {
        "id": "TDD_AOteOAck"
      },
      "source": [
        "#### Exercise 2\n",
        "\n",
        "Using the `range` function, create a list containing the numbers from 0 to 10."
      ]
    },
    {
      "cell_type": "code",
      "source": [
        "list(range(0,10))"
      ],
      "metadata": {
        "colab": {
          "base_uri": "https://localhost:8080/"
        },
        "id": "PCsx0I0ibWxn",
        "outputId": "26d7fb6a-3b28-4897-d2cc-54af30931fd2"
      },
      "execution_count": null,
      "outputs": [
        {
          "output_type": "execute_result",
          "data": {
            "text/plain": [
              "[0, 1, 2, 3, 4, 5, 6, 7, 8, 9]"
            ]
          },
          "metadata": {},
          "execution_count": 15
        }
      ]
    },
    {
      "cell_type": "markdown",
      "metadata": {
        "id": "WJO1KzxyOAck"
      },
      "source": [
        "#### Exercise 3\n",
        "\n",
        "Create a list containing the valid grade values, then using `enumerate` in a `for` loop, print out all **indices** and **items** in the list.\n",
        "\n",
        "It should print out:\n",
        "\n",
        "    0   1.0\n",
        "    1   1.25\n",
        "    2   1.5\n",
        "    3   1.75\n",
        "    4   2.0\n",
        "    5   2.25\n",
        "    6   2.5\n",
        "    7   3.0\n",
        "      "
      ]
    },
    {
      "cell_type": "code",
      "source": [
        "grades = [1.0, 1.25, 1.5, 1.75, 2.0, 2.25, 2.5, 3.0]\n",
        "\n",
        "for i, grade in enumerate(grades):\n",
        "    print(i, grade)"
      ],
      "metadata": {
        "colab": {
          "base_uri": "https://localhost:8080/"
        },
        "id": "xwlf4EUMZ5AT",
        "outputId": "9b8e7188-9357-4699-cb3b-b8a74d516515"
      },
      "execution_count": null,
      "outputs": [
        {
          "output_type": "stream",
          "name": "stdout",
          "text": [
            "0 1.0\n",
            "1 1.25\n",
            "2 1.5\n",
            "3 1.75\n",
            "4 2.0\n",
            "5 2.25\n",
            "6 2.5\n",
            "7 3.0\n"
          ]
        }
      ]
    },
    {
      "cell_type": "markdown",
      "metadata": {
        "id": "OFxAlF7bOAck"
      },
      "source": [
        "#### Exercise 4\n",
        "\n",
        "Using Index Slicing, print out the list of grades higher than 2.0"
      ]
    },
    {
      "cell_type": "code",
      "source": [
        "grades[5:8]"
      ],
      "metadata": {
        "colab": {
          "base_uri": "https://localhost:8080/"
        },
        "id": "Z-cD584Ub309",
        "outputId": "a8076fbc-4bae-487e-f67a-7adba936d2d2"
      },
      "execution_count": null,
      "outputs": [
        {
          "output_type": "execute_result",
          "data": {
            "text/plain": [
              "[2.25, 2.5, 3.0]"
            ]
          },
          "metadata": {},
          "execution_count": 26
        }
      ]
    },
    {
      "cell_type": "markdown",
      "metadata": {
        "id": "CamGm8VcOAck"
      },
      "source": [
        "#### Exercise 5\n",
        "\n",
        "Using Index Slicing, print out the list of grades better than 2.0.\n"
      ]
    },
    {
      "cell_type": "code",
      "source": [
        "grades[0:4]"
      ],
      "metadata": {
        "colab": {
          "base_uri": "https://localhost:8080/"
        },
        "id": "lapngPi2cPyA",
        "outputId": "4ed12a67-c3e0-44be-b092-67f12f176194"
      },
      "execution_count": null,
      "outputs": [
        {
          "output_type": "execute_result",
          "data": {
            "text/plain": [
              "[1.0, 1.25, 1.5, 1.75]"
            ]
          },
          "metadata": {},
          "execution_count": 24
        }
      ]
    },
    {
      "cell_type": "markdown",
      "metadata": {
        "id": "meUDrFJMOAck"
      },
      "source": [
        "#### Exercise 6\n",
        "\n",
        "Using Index Slicing, print out the grades 2.0,2.25,2.5."
      ]
    },
    {
      "cell_type": "code",
      "source": [
        "grades[4:7]"
      ],
      "metadata": {
        "colab": {
          "base_uri": "https://localhost:8080/"
        },
        "id": "BNQEBPWhcdZ5",
        "outputId": "c837694e-100a-4992-b7e4-946e0f1064ec"
      },
      "execution_count": null,
      "outputs": [
        {
          "output_type": "execute_result",
          "data": {
            "text/plain": [
              "[2.0, 2.25, 2.5]"
            ]
          },
          "metadata": {},
          "execution_count": 28
        }
      ]
    },
    {
      "cell_type": "markdown",
      "metadata": {
        "id": "ruh0P25jOAck"
      },
      "source": [
        "## CHALLENGE\n",
        "\n",
        "Modify the code in the subheading [Parsing Lines](#ParsingLines) to display all the time stamps\n",
        "of the emails in mboxt-short.txt\n"
      ]
    },
    {
      "cell_type": "code",
      "source": [
        "from google.colab import drive\n",
        "drive.mount('/content/drive')"
      ],
      "metadata": {
        "colab": {
          "base_uri": "https://localhost:8080/"
        },
        "id": "ka5gv4TldpvV",
        "outputId": "90da301b-051a-4ad7-8ef1-2fdf8d075b04"
      },
      "execution_count": null,
      "outputs": [
        {
          "output_type": "stream",
          "name": "stdout",
          "text": [
            "Mounted at /content/drive\n"
          ]
        }
      ]
    },
    {
      "cell_type": "code",
      "source": [
        "fhand = open('/content/drive/My Drive/Python101/mbox-short.txt')\n",
        "emails = []\n",
        "timestamps = []\n",
        "\n",
        "for line in fhand:\n",
        "    line = line.strip()\n",
        "    if line.startswith('From '):\n",
        "        words = line.split()\n",
        "        emails.append(words[1])\n",
        "        timestamp = words[5] + ' ' + words[2] + ' ' + words[4] + ' ' + words[6]\n",
        "        timestamps.append(timestamp)\n",
        "\n",
        "# Print emails and timestamps pair by pair\n",
        "for email, timestamp in zip(emails, timestamps):\n",
        "    print(\"Email:\", [email])\n",
        "    print(\"Timestamp:\", [timestamp])"
      ],
      "metadata": {
        "colab": {
          "base_uri": "https://localhost:8080/"
        },
        "id": "xFNFOXg-dzrI",
        "outputId": "b8bbc14d-3ab4-488d-9d07-62687e3f4119"
      },
      "execution_count": null,
      "outputs": [
        {
          "output_type": "stream",
          "name": "stdout",
          "text": [
            "Email: ['stephen.marquard@uct.ac.za']\n",
            "Timestamp: ['09:14:16 Sat 5 2008']\n",
            "Email: ['chadmichaeljurado@gmail.com']\n",
            "Timestamp: ['08:13:15 Sun 6 2008']\n"
          ]
        }
      ]
    },
    {
      "cell_type": "markdown",
      "metadata": {
        "id": "BD17tmgaOAcl"
      },
      "source": [
        "\n",
        "[TABLE OF CONTENTS](#contents)"
      ]
    }
  ]
}