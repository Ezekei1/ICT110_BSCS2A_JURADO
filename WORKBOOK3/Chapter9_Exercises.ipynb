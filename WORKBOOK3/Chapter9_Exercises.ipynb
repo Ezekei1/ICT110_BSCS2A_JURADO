{
  "nbformat": 4,
  "nbformat_minor": 0,
  "metadata": {
    "colab": {
      "provenance": []
    },
    "kernelspec": {
      "name": "python3",
      "display_name": "Python 3"
    },
    "language_info": {
      "name": "python"
    }
  },
  "cells": [
    {
      "cell_type": "markdown",
      "metadata": {
        "id": "S9cjht63OAc3"
      },
      "source": [
        "#### Exercise 1\n",
        "\n",
        "Create a dictionary with the following keys and values showing a partial list of Real GDP growth in Annual percent change from IMF (Source: http://www.imf.org/external/datamapper/NGDP_RPCH@WEO/OEMDC/ADVEC/WEOWORLD)\n",
        "\n",
        "    China 6.5\n",
        "    Japan 0.7\n",
        "    Philippines 6.7\n",
        "    United States 2.3\n",
        "    "
      ]
    },
    {
      "cell_type": "code",
      "source": [
        "Country = dict()\n",
        "Country ['China']= 6.5\n",
        "Country ['Japan']= 0.7\n",
        "Country ['Philippines']= 6.7\n",
        "Country ['United States']= 2.3\n",
        "print(Country)"
      ],
      "metadata": {
        "colab": {
          "base_uri": "https://localhost:8080/"
        },
        "id": "JXU5cwWOA9k4",
        "outputId": "b1969c90-403d-4c38-fa34-9eb4a84bf7fe"
      },
      "execution_count": null,
      "outputs": [
        {
          "output_type": "stream",
          "name": "stdout",
          "text": [
            "{'China': 6.5, 'Japan': 0.7, 'Philippines': 6.7, 'United States': 2.3}\n"
          ]
        }
      ]
    },
    {
      "cell_type": "markdown",
      "metadata": {
        "id": "bTQHADd-OAc4"
      },
      "source": [
        "#### Exercise 2\n",
        "\n",
        "Display all the keys and values from the dictionary you created above\n"
      ]
    },
    {
      "cell_type": "code",
      "source": [
        "for key in Country:\n",
        "    print(key)"
      ],
      "metadata": {
        "colab": {
          "base_uri": "https://localhost:8080/"
        },
        "id": "lap-OUjeER2G",
        "outputId": "f3714b96-24e1-4455-e39c-0c79a5cef7f7"
      },
      "execution_count": null,
      "outputs": [
        {
          "output_type": "stream",
          "name": "stdout",
          "text": [
            "China\n",
            "Japan\n",
            "Philippines\n",
            "United States\n"
          ]
        }
      ]
    },
    {
      "cell_type": "code",
      "source": [
        "for value in Country.values():\n",
        "    print(value)"
      ],
      "metadata": {
        "colab": {
          "base_uri": "https://localhost:8080/"
        },
        "id": "z-Z8sS9gEbj1",
        "outputId": "d174580b-4962-4ca5-cea2-5e08e10a80be"
      },
      "execution_count": null,
      "outputs": [
        {
          "output_type": "stream",
          "name": "stdout",
          "text": [
            "6.5\n",
            "0.7\n",
            "6.7\n",
            "2.3\n"
          ]
        }
      ]
    },
    {
      "cell_type": "code",
      "source": [
        "for key, value in Country.items():\n",
        "    print(key, \":\", value)"
      ],
      "metadata": {
        "colab": {
          "base_uri": "https://localhost:8080/"
        },
        "id": "DX0EL9-yEnUn",
        "outputId": "99ae6fe8-7cfa-463c-b996-309d9c5824d4"
      },
      "execution_count": null,
      "outputs": [
        {
          "output_type": "stream",
          "name": "stdout",
          "text": [
            "China : 6.5\n",
            "Japan : 0.7\n",
            "Philippines : 6.7\n",
            "United States : 2.3\n"
          ]
        }
      ]
    },
    {
      "cell_type": "markdown",
      "metadata": {
        "id": "aWNCaDCAOAc4"
      },
      "source": [
        "#### Exercise 3\n",
        "\n",
        "Write a program that asks the user to enter a line of text and then counts the number of each word that appeared in the line of text.\n",
        "Use the string function `split()` to make a list of words from a given string\n",
        "e.g.:\n",
        "\n",
        "```python\n",
        "word_list = line.split()\n",
        "```\n",
        "\n",
        "will return a list of words from the string `line` and store it in the variable `word_list`.\n",
        "\n",
        "\n",
        "(Adapted from [PES])"
      ]
    },
    {
      "cell_type": "code",
      "source": [
        "line = input(\"Enter a line of text: \")\n",
        "\n",
        "word_list = line.split()\n",
        "\n",
        "word_counts = {}\n",
        "\n",
        "for word in word_list:\n",
        "\n",
        "    if word in word_counts:\n",
        "        word_counts[word] += 1\n",
        "    else:\n",
        "        word_counts[word] = 1\n",
        "\n",
        "print(\"Word counts:\")\n",
        "for word, count in word_counts.items():\n",
        "    print(f\"{word}: {count}\")"
      ],
      "metadata": {
        "colab": {
          "base_uri": "https://localhost:8080/"
        },
        "id": "3Ns4b9IfE1Na",
        "outputId": "ba947b12-89f6-4d76-92fe-194b3dc105a2"
      },
      "execution_count": null,
      "outputs": [
        {
          "output_type": "stream",
          "name": "stdout",
          "text": [
            "Enter a line of text: chad michael michael michael jurado jurado jurado jurado jurado\n",
            "Word counts:\n",
            "chad: 1\n",
            "michael: 3\n",
            "jurado: 5\n"
          ]
        }
      ]
    }
  ]
}